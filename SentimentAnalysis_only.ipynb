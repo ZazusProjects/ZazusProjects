{
  "cells": [
    {
      "cell_type": "markdown",
      "metadata": {
        "id": "view-in-github",
        "colab_type": "text"
      },
      "source": [
        "<a href=\"https://colab.research.google.com/github/ZazusProjects/ZazusProjects/blob/main/SentimentAnalysis_only.ipynb\" target=\"_parent\"><img src=\"https://colab.research.google.com/assets/colab-badge.svg\" alt=\"Open In Colab\"/></a>"
      ]
    },
    {
      "cell_type": "markdown",
      "metadata": {
        "id": "BgRV-6Zc0ET5"
      },
      "source": [
        "# Making sentiment predictions over tweets dataset\n",
        "\n",
        "The purpose of this analysis is to make up a prediction model where we will be able to predict whether a tweet is positive or negative. In this analysis, we will not focus on the Score, but only the positive/negative sentiment of the recommendation.\n",
        "\n",
        "To do so, we will reply on a training dataset created by the students, we will build a Term-doc incidence matrix using term frequency and inverse document frequency ponderation. When the data is ready, we will load it into predicitve algorithms, mainly naïve Bayesian and regression"
      ]
    },
    {
      "cell_type": "code",
      "execution_count": null,
      "metadata": {
        "id": "qGdQhHnJ0EUH"
      },
      "outputs": [],
      "source": [
        "# run the following installation command in Anaconda prompt one by one\n",
        "\n",
        "# ! conda install -c conda-forge nltk\n",
        "# ! conda install -c conda-forge pyldavis\n",
        "# ! conda install -c conda-forge gensim\n",
        "# ! conda install -c conda-forge spacy"
      ]
    },
    {
      "cell_type": "code",
      "execution_count": null,
      "metadata": {
        "id": "_HdgKlx10EUI",
        "outputId": "6e7874bd-3f96-440b-dce1-2465a350e681"
      },
      "outputs": [
        {
          "name": "stderr",
          "output_type": "stream",
          "text": [
            "[nltk_data] Downloading package punkt to\n",
            "[nltk_data]     C:\\Users\\pzx0002-admin\\AppData\\Roaming\\nltk_data...\n",
            "[nltk_data]   Package punkt is already up-to-date!\n"
          ]
        }
      ],
      "source": [
        "%matplotlib inline\n",
        "\n",
        "import pandas as pd\n",
        "import numpy as np\n",
        "import nltk\n",
        "nltk.download('punkt')\n",
        "import string\n",
        "import matplotlib.pyplot as plt\n",
        "import numpy as np\n",
        "from sklearn.metrics import confusion_matrix, classification_report, roc_auc_score, accuracy_score\n",
        "from sklearn.feature_extraction.text import TfidfTransformer\n",
        "from sklearn.feature_extraction.text import CountVectorizer\n",
        "from sklearn.model_selection import train_test_split\n",
        "from sklearn import metrics\n",
        "from sklearn.metrics import roc_curve, auc\n",
        "from nltk.stem.porter import PorterStemmer"
      ]
    },
    {
      "cell_type": "markdown",
      "metadata": {
        "id": "3fNlVorx0EUJ"
      },
      "source": [
        "# Part I: Lexicon-based Sentiment Analysis"
      ]
    },
    {
      "cell_type": "code",
      "execution_count": null,
      "metadata": {
        "id": "O6MuQbpT0EUJ",
        "outputId": "a8ab6113-6b3c-4721-dee1-2c7c6d4ee947"
      },
      "outputs": [
        {
          "data": {
            "text/html": [
              "<div>\n",
              "<style scoped>\n",
              "    .dataframe tbody tr th:only-of-type {\n",
              "        vertical-align: middle;\n",
              "    }\n",
              "\n",
              "    .dataframe tbody tr th {\n",
              "        vertical-align: top;\n",
              "    }\n",
              "\n",
              "    .dataframe thead th {\n",
              "        text-align: right;\n",
              "    }\n",
              "</style>\n",
              "<table border=\"1\" class=\"dataframe\">\n",
              "  <thead>\n",
              "    <tr style=\"text-align: right;\">\n",
              "      <th></th>\n",
              "      <th>user</th>\n",
              "      <th>fullname</th>\n",
              "      <th>tweet-id</th>\n",
              "      <th>timestamp</th>\n",
              "      <th>url</th>\n",
              "      <th>likes</th>\n",
              "      <th>replies</th>\n",
              "      <th>retweets</th>\n",
              "      <th>text</th>\n",
              "      <th>html</th>\n",
              "    </tr>\n",
              "  </thead>\n",
              "  <tbody>\n",
              "    <tr>\n",
              "      <th>0</th>\n",
              "      <td>Bjorn12650</td>\n",
              "      <td>Brian Olson</td>\n",
              "      <td>1162149919085359104</td>\n",
              "      <td>2019-08-15 23:51:47</td>\n",
              "      <td>/Bjorn12650/status/1162149919085359104</td>\n",
              "      <td>0</td>\n",
              "      <td>0</td>\n",
              "      <td>0</td>\n",
              "      <td>#WarEagle #HookEmHorns #OUSucks</td>\n",
              "      <td>&lt;p class=\"TweetTextSize js-tweet-text tweet-te...</td>\n",
              "    </tr>\n",
              "    <tr>\n",
              "      <th>1</th>\n",
              "      <td>WarEagle_Bands</td>\n",
              "      <td>War Eagle Bands</td>\n",
              "      <td>1162149186495832064</td>\n",
              "      <td>2019-08-15 23:48:52</td>\n",
              "      <td>/WarEagle_Bands/status/1162149186495832064</td>\n",
              "      <td>9</td>\n",
              "      <td>0</td>\n",
              "      <td>4</td>\n",
              "      <td>Don’t get ready...stay ready!!pic.twitter.com/...</td>\n",
              "      <td>&lt;p class=\"TweetTextSize js-tweet-text tweet-te...</td>\n",
              "    </tr>\n",
              "    <tr>\n",
              "      <th>2</th>\n",
              "      <td>AURobUSA</td>\n",
              "      <td>𝓐𝓤𝓡𝓸𝓫  🐯 Pixel Pusher!</td>\n",
              "      <td>1162146524073222144</td>\n",
              "      <td>2019-08-15 23:38:17</td>\n",
              "      <td>/AURobUSA/status/1162146524073222144</td>\n",
              "      <td>1</td>\n",
              "      <td>0</td>\n",
              "      <td>0</td>\n",
              "      <td>Thank you, I loved working on it! #WarEagle</td>\n",
              "      <td>&lt;p class=\"TweetTextSize js-tweet-text tweet-te...</td>\n",
              "    </tr>\n",
              "    <tr>\n",
              "      <th>3</th>\n",
              "      <td>AuBurntOrange</td>\n",
              "      <td>AuBurntOrange</td>\n",
              "      <td>1162145863776591872</td>\n",
              "      <td>2019-08-15 23:35:40</td>\n",
              "      <td>/AuBurntOrange/status/1162145863776591872</td>\n",
              "      <td>1</td>\n",
              "      <td>0</td>\n",
              "      <td>0</td>\n",
              "      <td>Good. Looking. Picture. \\r\\n#WarEagle https://...</td>\n",
              "      <td>&lt;p class=\"TweetTextSize js-tweet-text tweet-te...</td>\n",
              "    </tr>\n",
              "    <tr>\n",
              "      <th>4</th>\n",
              "      <td>AuburnU</td>\n",
              "      <td>Auburn University</td>\n",
              "      <td>1162140829504483328</td>\n",
              "      <td>2019-08-15 23:15:39</td>\n",
              "      <td>/AuburnU/status/1162140829504483328</td>\n",
              "      <td>32</td>\n",
              "      <td>0</td>\n",
              "      <td>3</td>\n",
              "      <td>#Auburn admission applications for 2020 terms ...</td>\n",
              "      <td>&lt;p class=\"TweetTextSize js-tweet-text tweet-te...</td>\n",
              "    </tr>\n",
              "  </tbody>\n",
              "</table>\n",
              "</div>"
            ],
            "text/plain": [
              "             user                fullname             tweet-id  \\\n",
              "0      Bjorn12650             Brian Olson  1162149919085359104   \n",
              "1  WarEagle_Bands         War Eagle Bands  1162149186495832064   \n",
              "2        AURobUSA  𝓐𝓤𝓡𝓸𝓫  🐯 Pixel Pusher!  1162146524073222144   \n",
              "3   AuBurntOrange           AuBurntOrange  1162145863776591872   \n",
              "4         AuburnU       Auburn University  1162140829504483328   \n",
              "\n",
              "             timestamp                                         url  likes  \\\n",
              "0  2019-08-15 23:51:47      /Bjorn12650/status/1162149919085359104      0   \n",
              "1  2019-08-15 23:48:52  /WarEagle_Bands/status/1162149186495832064      9   \n",
              "2  2019-08-15 23:38:17        /AURobUSA/status/1162146524073222144      1   \n",
              "3  2019-08-15 23:35:40   /AuBurntOrange/status/1162145863776591872      1   \n",
              "4  2019-08-15 23:15:39         /AuburnU/status/1162140829504483328     32   \n",
              "\n",
              "   replies  retweets                                               text  \\\n",
              "0        0         0                    #WarEagle #HookEmHorns #OUSucks   \n",
              "1        0         4  Don’t get ready...stay ready!!pic.twitter.com/...   \n",
              "2        0         0        Thank you, I loved working on it! #WarEagle   \n",
              "3        0         0  Good. Looking. Picture. \\r\\n#WarEagle https://...   \n",
              "4        0         3  #Auburn admission applications for 2020 terms ...   \n",
              "\n",
              "                                                html  \n",
              "0  <p class=\"TweetTextSize js-tweet-text tweet-te...  \n",
              "1  <p class=\"TweetTextSize js-tweet-text tweet-te...  \n",
              "2  <p class=\"TweetTextSize js-tweet-text tweet-te...  \n",
              "3  <p class=\"TweetTextSize js-tweet-text tweet-te...  \n",
              "4  <p class=\"TweetTextSize js-tweet-text tweet-te...  "
            ]
          },
          "execution_count": 3,
          "metadata": {},
          "output_type": "execute_result"
        }
      ],
      "source": [
        "# The file 'wetweets.csv' contains all tweets with hashtag #WarEagle between 8/1/2019 and 11/10/2019\n",
        "\n",
        "tweets = pd.read_csv('wetweets.csv', encoding = \"utf8\")\n",
        "tweets.head()"
      ]
    },
    {
      "cell_type": "code",
      "execution_count": null,
      "metadata": {
        "id": "Pz4t1D1d0EUJ",
        "outputId": "8b6cbba0-3825-4aaa-bb4c-548c81c59ec8"
      },
      "outputs": [
        {
          "ename": "TypeError",
          "evalue": "The `text` argument passed to `__init__(text)` must be a string, not <class 'float'>",
          "output_type": "error",
          "traceback": [
            "\u001b[1;31m---------------------------------------------------------------------------\u001b[0m",
            "\u001b[1;31mTypeError\u001b[0m                                 Traceback (most recent call last)",
            "\u001b[1;32m<ipython-input-4-0dc357a566a2>\u001b[0m in \u001b[0;36m<module>\u001b[1;34m\u001b[0m\n\u001b[0;32m      3\u001b[0m \u001b[1;32mfrom\u001b[0m \u001b[0mtextblob\u001b[0m \u001b[1;32mimport\u001b[0m \u001b[0mTextBlob\u001b[0m\u001b[1;33m\u001b[0m\u001b[1;33m\u001b[0m\u001b[0m\n\u001b[0;32m      4\u001b[0m \u001b[1;33m\u001b[0m\u001b[0m\n\u001b[1;32m----> 5\u001b[1;33m \u001b[0mtweets\u001b[0m\u001b[1;33m[\u001b[0m\u001b[1;34m'polarity'\u001b[0m\u001b[1;33m]\u001b[0m \u001b[1;33m=\u001b[0m \u001b[0mtweets\u001b[0m\u001b[1;33m.\u001b[0m\u001b[0mapply\u001b[0m\u001b[1;33m(\u001b[0m\u001b[1;32mlambda\u001b[0m \u001b[0mrow\u001b[0m\u001b[1;33m:\u001b[0m \u001b[0mTextBlob\u001b[0m\u001b[1;33m(\u001b[0m\u001b[0mrow\u001b[0m\u001b[1;33m[\u001b[0m\u001b[1;34m'text'\u001b[0m\u001b[1;33m]\u001b[0m\u001b[1;33m)\u001b[0m\u001b[1;33m.\u001b[0m\u001b[0msentiment\u001b[0m\u001b[1;33m[\u001b[0m\u001b[1;36m0\u001b[0m\u001b[1;33m]\u001b[0m\u001b[1;33m,\u001b[0m \u001b[0maxis\u001b[0m\u001b[1;33m=\u001b[0m\u001b[1;36m1\u001b[0m\u001b[1;33m)\u001b[0m\u001b[1;33m\u001b[0m\u001b[1;33m\u001b[0m\u001b[0m\n\u001b[0m\u001b[0;32m      6\u001b[0m \u001b[0mtweets\u001b[0m\u001b[1;33m[\u001b[0m\u001b[1;34m'subjectivity'\u001b[0m\u001b[1;33m]\u001b[0m \u001b[1;33m=\u001b[0m \u001b[0mtweets\u001b[0m\u001b[1;33m.\u001b[0m\u001b[0mapply\u001b[0m\u001b[1;33m(\u001b[0m\u001b[1;32mlambda\u001b[0m \u001b[0mrow\u001b[0m\u001b[1;33m:\u001b[0m \u001b[0mTextBlob\u001b[0m\u001b[1;33m(\u001b[0m\u001b[0mrow\u001b[0m\u001b[1;33m[\u001b[0m\u001b[1;34m'text'\u001b[0m\u001b[1;33m]\u001b[0m\u001b[1;33m)\u001b[0m\u001b[1;33m.\u001b[0m\u001b[0msentiment\u001b[0m\u001b[1;33m[\u001b[0m\u001b[1;36m1\u001b[0m\u001b[1;33m]\u001b[0m\u001b[1;33m,\u001b[0m \u001b[0maxis\u001b[0m\u001b[1;33m=\u001b[0m\u001b[1;36m1\u001b[0m\u001b[1;33m)\u001b[0m\u001b[1;33m\u001b[0m\u001b[1;33m\u001b[0m\u001b[0m\n\u001b[0;32m      7\u001b[0m \u001b[1;33m\u001b[0m\u001b[0m\n",
            "\u001b[1;32m~\\anaconda3\\lib\\site-packages\\pandas\\core\\frame.py\u001b[0m in \u001b[0;36mapply\u001b[1;34m(self, func, axis, raw, result_type, args, **kwds)\u001b[0m\n\u001b[0;32m   7766\u001b[0m             \u001b[0mkwds\u001b[0m\u001b[1;33m=\u001b[0m\u001b[0mkwds\u001b[0m\u001b[1;33m,\u001b[0m\u001b[1;33m\u001b[0m\u001b[1;33m\u001b[0m\u001b[0m\n\u001b[0;32m   7767\u001b[0m         )\n\u001b[1;32m-> 7768\u001b[1;33m         \u001b[1;32mreturn\u001b[0m \u001b[0mop\u001b[0m\u001b[1;33m.\u001b[0m\u001b[0mget_result\u001b[0m\u001b[1;33m(\u001b[0m\u001b[1;33m)\u001b[0m\u001b[1;33m\u001b[0m\u001b[1;33m\u001b[0m\u001b[0m\n\u001b[0m\u001b[0;32m   7769\u001b[0m \u001b[1;33m\u001b[0m\u001b[0m\n\u001b[0;32m   7770\u001b[0m     \u001b[1;32mdef\u001b[0m \u001b[0mapplymap\u001b[0m\u001b[1;33m(\u001b[0m\u001b[0mself\u001b[0m\u001b[1;33m,\u001b[0m \u001b[0mfunc\u001b[0m\u001b[1;33m,\u001b[0m \u001b[0mna_action\u001b[0m\u001b[1;33m:\u001b[0m \u001b[0mOptional\u001b[0m\u001b[1;33m[\u001b[0m\u001b[0mstr\u001b[0m\u001b[1;33m]\u001b[0m \u001b[1;33m=\u001b[0m \u001b[1;32mNone\u001b[0m\u001b[1;33m)\u001b[0m \u001b[1;33m->\u001b[0m \u001b[0mDataFrame\u001b[0m\u001b[1;33m:\u001b[0m\u001b[1;33m\u001b[0m\u001b[1;33m\u001b[0m\u001b[0m\n",
            "\u001b[1;32m~\\anaconda3\\lib\\site-packages\\pandas\\core\\apply.py\u001b[0m in \u001b[0;36mget_result\u001b[1;34m(self)\u001b[0m\n\u001b[0;32m    183\u001b[0m             \u001b[1;32mreturn\u001b[0m \u001b[0mself\u001b[0m\u001b[1;33m.\u001b[0m\u001b[0mapply_raw\u001b[0m\u001b[1;33m(\u001b[0m\u001b[1;33m)\u001b[0m\u001b[1;33m\u001b[0m\u001b[1;33m\u001b[0m\u001b[0m\n\u001b[0;32m    184\u001b[0m \u001b[1;33m\u001b[0m\u001b[0m\n\u001b[1;32m--> 185\u001b[1;33m         \u001b[1;32mreturn\u001b[0m \u001b[0mself\u001b[0m\u001b[1;33m.\u001b[0m\u001b[0mapply_standard\u001b[0m\u001b[1;33m(\u001b[0m\u001b[1;33m)\u001b[0m\u001b[1;33m\u001b[0m\u001b[1;33m\u001b[0m\u001b[0m\n\u001b[0m\u001b[0;32m    186\u001b[0m \u001b[1;33m\u001b[0m\u001b[0m\n\u001b[0;32m    187\u001b[0m     \u001b[1;32mdef\u001b[0m \u001b[0mapply_empty_result\u001b[0m\u001b[1;33m(\u001b[0m\u001b[0mself\u001b[0m\u001b[1;33m)\u001b[0m\u001b[1;33m:\u001b[0m\u001b[1;33m\u001b[0m\u001b[1;33m\u001b[0m\u001b[0m\n",
            "\u001b[1;32m~\\anaconda3\\lib\\site-packages\\pandas\\core\\apply.py\u001b[0m in \u001b[0;36mapply_standard\u001b[1;34m(self)\u001b[0m\n\u001b[0;32m    274\u001b[0m \u001b[1;33m\u001b[0m\u001b[0m\n\u001b[0;32m    275\u001b[0m     \u001b[1;32mdef\u001b[0m \u001b[0mapply_standard\u001b[0m\u001b[1;33m(\u001b[0m\u001b[0mself\u001b[0m\u001b[1;33m)\u001b[0m\u001b[1;33m:\u001b[0m\u001b[1;33m\u001b[0m\u001b[1;33m\u001b[0m\u001b[0m\n\u001b[1;32m--> 276\u001b[1;33m         \u001b[0mresults\u001b[0m\u001b[1;33m,\u001b[0m \u001b[0mres_index\u001b[0m \u001b[1;33m=\u001b[0m \u001b[0mself\u001b[0m\u001b[1;33m.\u001b[0m\u001b[0mapply_series_generator\u001b[0m\u001b[1;33m(\u001b[0m\u001b[1;33m)\u001b[0m\u001b[1;33m\u001b[0m\u001b[1;33m\u001b[0m\u001b[0m\n\u001b[0m\u001b[0;32m    277\u001b[0m \u001b[1;33m\u001b[0m\u001b[0m\n\u001b[0;32m    278\u001b[0m         \u001b[1;31m# wrap results\u001b[0m\u001b[1;33m\u001b[0m\u001b[1;33m\u001b[0m\u001b[1;33m\u001b[0m\u001b[0m\n",
            "\u001b[1;32m~\\anaconda3\\lib\\site-packages\\pandas\\core\\apply.py\u001b[0m in \u001b[0;36mapply_series_generator\u001b[1;34m(self)\u001b[0m\n\u001b[0;32m    288\u001b[0m             \u001b[1;32mfor\u001b[0m \u001b[0mi\u001b[0m\u001b[1;33m,\u001b[0m \u001b[0mv\u001b[0m \u001b[1;32min\u001b[0m \u001b[0menumerate\u001b[0m\u001b[1;33m(\u001b[0m\u001b[0mseries_gen\u001b[0m\u001b[1;33m)\u001b[0m\u001b[1;33m:\u001b[0m\u001b[1;33m\u001b[0m\u001b[1;33m\u001b[0m\u001b[0m\n\u001b[0;32m    289\u001b[0m                 \u001b[1;31m# ignore SettingWithCopy here in case the user mutates\u001b[0m\u001b[1;33m\u001b[0m\u001b[1;33m\u001b[0m\u001b[1;33m\u001b[0m\u001b[0m\n\u001b[1;32m--> 290\u001b[1;33m                 \u001b[0mresults\u001b[0m\u001b[1;33m[\u001b[0m\u001b[0mi\u001b[0m\u001b[1;33m]\u001b[0m \u001b[1;33m=\u001b[0m \u001b[0mself\u001b[0m\u001b[1;33m.\u001b[0m\u001b[0mf\u001b[0m\u001b[1;33m(\u001b[0m\u001b[0mv\u001b[0m\u001b[1;33m)\u001b[0m\u001b[1;33m\u001b[0m\u001b[1;33m\u001b[0m\u001b[0m\n\u001b[0m\u001b[0;32m    291\u001b[0m                 \u001b[1;32mif\u001b[0m \u001b[0misinstance\u001b[0m\u001b[1;33m(\u001b[0m\u001b[0mresults\u001b[0m\u001b[1;33m[\u001b[0m\u001b[0mi\u001b[0m\u001b[1;33m]\u001b[0m\u001b[1;33m,\u001b[0m \u001b[0mABCSeries\u001b[0m\u001b[1;33m)\u001b[0m\u001b[1;33m:\u001b[0m\u001b[1;33m\u001b[0m\u001b[1;33m\u001b[0m\u001b[0m\n\u001b[0;32m    292\u001b[0m                     \u001b[1;31m# If we have a view on v, we need to make a copy because\u001b[0m\u001b[1;33m\u001b[0m\u001b[1;33m\u001b[0m\u001b[1;33m\u001b[0m\u001b[0m\n",
            "\u001b[1;32m<ipython-input-4-0dc357a566a2>\u001b[0m in \u001b[0;36m<lambda>\u001b[1;34m(row)\u001b[0m\n\u001b[0;32m      3\u001b[0m \u001b[1;32mfrom\u001b[0m \u001b[0mtextblob\u001b[0m \u001b[1;32mimport\u001b[0m \u001b[0mTextBlob\u001b[0m\u001b[1;33m\u001b[0m\u001b[1;33m\u001b[0m\u001b[0m\n\u001b[0;32m      4\u001b[0m \u001b[1;33m\u001b[0m\u001b[0m\n\u001b[1;32m----> 5\u001b[1;33m \u001b[0mtweets\u001b[0m\u001b[1;33m[\u001b[0m\u001b[1;34m'polarity'\u001b[0m\u001b[1;33m]\u001b[0m \u001b[1;33m=\u001b[0m \u001b[0mtweets\u001b[0m\u001b[1;33m.\u001b[0m\u001b[0mapply\u001b[0m\u001b[1;33m(\u001b[0m\u001b[1;32mlambda\u001b[0m \u001b[0mrow\u001b[0m\u001b[1;33m:\u001b[0m \u001b[0mTextBlob\u001b[0m\u001b[1;33m(\u001b[0m\u001b[0mrow\u001b[0m\u001b[1;33m[\u001b[0m\u001b[1;34m'text'\u001b[0m\u001b[1;33m]\u001b[0m\u001b[1;33m)\u001b[0m\u001b[1;33m.\u001b[0m\u001b[0msentiment\u001b[0m\u001b[1;33m[\u001b[0m\u001b[1;36m0\u001b[0m\u001b[1;33m]\u001b[0m\u001b[1;33m,\u001b[0m \u001b[0maxis\u001b[0m\u001b[1;33m=\u001b[0m\u001b[1;36m1\u001b[0m\u001b[1;33m)\u001b[0m\u001b[1;33m\u001b[0m\u001b[1;33m\u001b[0m\u001b[0m\n\u001b[0m\u001b[0;32m      6\u001b[0m \u001b[0mtweets\u001b[0m\u001b[1;33m[\u001b[0m\u001b[1;34m'subjectivity'\u001b[0m\u001b[1;33m]\u001b[0m \u001b[1;33m=\u001b[0m \u001b[0mtweets\u001b[0m\u001b[1;33m.\u001b[0m\u001b[0mapply\u001b[0m\u001b[1;33m(\u001b[0m\u001b[1;32mlambda\u001b[0m \u001b[0mrow\u001b[0m\u001b[1;33m:\u001b[0m \u001b[0mTextBlob\u001b[0m\u001b[1;33m(\u001b[0m\u001b[0mrow\u001b[0m\u001b[1;33m[\u001b[0m\u001b[1;34m'text'\u001b[0m\u001b[1;33m]\u001b[0m\u001b[1;33m)\u001b[0m\u001b[1;33m.\u001b[0m\u001b[0msentiment\u001b[0m\u001b[1;33m[\u001b[0m\u001b[1;36m1\u001b[0m\u001b[1;33m]\u001b[0m\u001b[1;33m,\u001b[0m \u001b[0maxis\u001b[0m\u001b[1;33m=\u001b[0m\u001b[1;36m1\u001b[0m\u001b[1;33m)\u001b[0m\u001b[1;33m\u001b[0m\u001b[1;33m\u001b[0m\u001b[0m\n\u001b[0;32m      7\u001b[0m \u001b[1;33m\u001b[0m\u001b[0m\n",
            "\u001b[1;32m~\\anaconda3\\lib\\site-packages\\textblob\\blob.py\u001b[0m in \u001b[0;36m__init__\u001b[1;34m(self, text, tokenizer, pos_tagger, np_extractor, analyzer, parser, classifier, clean_html)\u001b[0m\n\u001b[0;32m    367\u001b[0m                 parser=None, classifier=None, clean_html=False):\n\u001b[0;32m    368\u001b[0m         \u001b[1;32mif\u001b[0m \u001b[1;32mnot\u001b[0m \u001b[0misinstance\u001b[0m\u001b[1;33m(\u001b[0m\u001b[0mtext\u001b[0m\u001b[1;33m,\u001b[0m \u001b[0mbasestring\u001b[0m\u001b[1;33m)\u001b[0m\u001b[1;33m:\u001b[0m\u001b[1;33m\u001b[0m\u001b[1;33m\u001b[0m\u001b[0m\n\u001b[1;32m--> 369\u001b[1;33m             raise TypeError('The `text` argument passed to `__init__(text)` '\n\u001b[0m\u001b[0;32m    370\u001b[0m                             'must be a string, not {0}'.format(type(text)))\n\u001b[0;32m    371\u001b[0m         \u001b[1;32mif\u001b[0m \u001b[0mclean_html\u001b[0m\u001b[1;33m:\u001b[0m\u001b[1;33m\u001b[0m\u001b[1;33m\u001b[0m\u001b[0m\n",
            "\u001b[1;31mTypeError\u001b[0m: The `text` argument passed to `__init__(text)` must be a string, not <class 'float'>"
          ]
        }
      ],
      "source": [
        "#conda install -c conda-forge textblob\n",
        "\n",
        "from textblob import TextBlob\n",
        "\n",
        "tweets['polarity'] = tweets.apply(lambda row: TextBlob(row['text']).sentiment[0], axis=1)\n",
        "tweets['subjectivity'] = tweets.apply(lambda row: TextBlob(row['text']).sentiment[1], axis=1)\n",
        "\n",
        "tweets.head(10)"
      ]
    },
    {
      "cell_type": "markdown",
      "metadata": {
        "id": "Qz58V3rM0EUJ"
      },
      "source": [
        "## Task 1 - Create two rows of training data in the Reviews Sent worksheet in Google"
      ]
    },
    {
      "cell_type": "code",
      "execution_count": null,
      "metadata": {
        "id": "2-Gt6mV90EUJ"
      },
      "outputs": [],
      "source": [
        "# Task 1: Each student creates two rows of training data at the following Google Sheet\n",
        "# https://docs.google.com/spreadsheets/d/1vV61g7eiYjXINTj0gqtbDHA8m5knEcdsZrQHkFU-8Ro/edit?usp=sharing"
      ]
    },
    {
      "cell_type": "markdown",
      "metadata": {
        "id": "E528KBUd0EUJ"
      },
      "source": [
        "### Added three new rows:\n",
        "#### <span style=\"color:blue\"> \"War Eagle 4ver. Go Tigers!\" </span>\n",
        "#### <span style=\"color:blue\"> \"Auburn is all about touchdowns!\"</span>\n",
        "#### <span style=\"color:blue\"> \"Go Gators!\" </span>"
      ]
    },
    {
      "cell_type": "code",
      "execution_count": null,
      "metadata": {
        "id": "qCj-1-7v0EUK",
        "outputId": "cf475f70-d614-4537-dfa0-aae5d6a71cf1"
      },
      "outputs": [
        {
          "name": "stdout",
          "output_type": "stream",
          "text": [
            "<class 'pandas.core.frame.DataFrame'>\n",
            "RangeIndex: 4876 entries, 0 to 4875\n",
            "Data columns (total 3 columns):\n",
            " #   Column    Non-Null Count  Dtype \n",
            "---  ------    --------------  ----- \n",
            " 0   Id        4876 non-null   int64 \n",
            " 1   Summary   4876 non-null   object\n",
            " 2   Positive  4876 non-null   int64 \n",
            "dtypes: int64(2), object(1)\n",
            "memory usage: 114.4+ KB\n",
            "None\n"
          ]
        }
      ],
      "source": [
        "reviews = pd.read_csv('reviews_sent.csv', encoding = 'latin')\n",
        "print(reviews.info())"
      ]
    },
    {
      "cell_type": "code",
      "execution_count": null,
      "metadata": {
        "id": "8Y-1pZbd0EUK"
      },
      "outputs": [],
      "source": [
        "y = reviews['Positive']\n",
        "X = reviews['Summary']\n",
        "\n",
        "X_train, X_test, y_train, y_test = train_test_split(X, y, test_size=0.2, random_state=42)"
      ]
    },
    {
      "cell_type": "markdown",
      "metadata": {
        "id": "f9RNl70j0EUK"
      },
      "source": [
        "## Cleaning the data and convert text info to counts\n",
        "\n",
        "To format our data and build the Term-doc incidence matrix, many operations will be performed on the data :\n",
        "- Stemming\n",
        "- Stop words removal\n",
        "- Lowering\n",
        "- Tokenization\n",
        "- Pruning (numbers and punctuation)"
      ]
    },
    {
      "cell_type": "code",
      "execution_count": null,
      "metadata": {
        "id": "BzL8WGwp0EUK"
      },
      "outputs": [],
      "source": [
        "stemmer = PorterStemmer()\n",
        "\n",
        "count_vect = CountVectorizer(analyzer = 'word', stop_words = 'english')\n",
        "\n",
        "### if you wish to add your own stopwords, use the following code\n",
        "#added_stop_words = ['10']\n",
        "#my_stop_words = text.ENGLISH_STOP_WORDS.union(added_stop_words)\n",
        "#count_vect = CountVectorizer(analyzer = 'word', stop_words = my_stop_words)\n",
        "\n",
        "def stem_tokens(tokens, stemmer):\n",
        "    stemmed = []\n",
        "    for item in tokens:\n",
        "        stemmed.append(stemmer.stem(item))\n",
        "    return stemmed\n",
        "\n",
        "def tokenize(text):\n",
        "    tokens = nltk.word_tokenize(text)   # Resource 'tokenizers/punkt/english.pickle' not found\n",
        "    stems = stem_tokens(tokens, stemmer)\n",
        "    return ' '.join(stems)\n",
        "\n",
        "# replace each punctuation with a space\n",
        "intab = string.punctuation\n",
        "outtab = \"                                \"\n",
        "trantab = str.maketrans(intab, outtab)\n",
        "\n",
        "#--- Training set\n",
        "corpus = []\n",
        "for text in X_train:\n",
        "    text = str(text)\n",
        "    text = text.lower()\n",
        "    text = text.translate(trantab)\n",
        "    text=tokenize(text)\n",
        "    corpus.append(text)\n",
        "\n",
        "X_train_counts = count_vect.fit_transform(corpus)\n",
        "tfidf_transformer = TfidfTransformer()\n",
        "X_train_tfidf = tfidf_transformer.fit_transform(X_train_counts)\n",
        "\n",
        "#--- Test set\n",
        "test_set = []\n",
        "for text in X_test:\n",
        "    text = str(text)\n",
        "    text = text.lower()\n",
        "    text = text.translate(trantab)\n",
        "    text=tokenize(text)\n",
        "    test_set.append(text)\n",
        "\n",
        "X_new_counts = count_vect.transform(test_set)\n",
        "X_test_tfidf = tfidf_transformer.transform(X_new_counts)"
      ]
    },
    {
      "cell_type": "markdown",
      "metadata": {
        "id": "34DqKwHM0EUK"
      },
      "source": [
        "## Generate Models and Predictions"
      ]
    },
    {
      "cell_type": "code",
      "execution_count": null,
      "metadata": {
        "id": "KJLhsEjq0EUL"
      },
      "outputs": [],
      "source": [
        "prediction = dict()"
      ]
    },
    {
      "cell_type": "markdown",
      "metadata": {
        "id": "BVTshlmL0EUL"
      },
      "source": [
        "### Applying Multinomial Naïve Bayes learning method"
      ]
    },
    {
      "cell_type": "code",
      "execution_count": null,
      "metadata": {
        "id": "E9ctkPDf0EUL"
      },
      "outputs": [],
      "source": [
        "from sklearn.naive_bayes import MultinomialNB\n",
        "multi = MultinomialNB().fit(X_train_tfidf, y_train)\n",
        "prediction['Multinomial'] = multi.predict(X_test_tfidf)"
      ]
    },
    {
      "cell_type": "markdown",
      "metadata": {
        "id": "7une2Plm0EUL"
      },
      "source": [
        "### Applying Decision Tree learning method</h2>"
      ]
    },
    {
      "cell_type": "code",
      "execution_count": null,
      "metadata": {
        "id": "ofCeLjlG0EUL"
      },
      "outputs": [],
      "source": [
        "from sklearn.tree import DecisionTreeClassifier\n",
        "clt = DecisionTreeClassifier()\n",
        "clt.fit(X_train_tfidf, y_train)\n",
        "prediction['clt'] = clt.predict(X_test_tfidf)"
      ]
    },
    {
      "cell_type": "markdown",
      "metadata": {
        "id": "NOO4Z_us0EUM"
      },
      "source": [
        "### Applying Logistic regression learning method"
      ]
    },
    {
      "cell_type": "code",
      "execution_count": null,
      "metadata": {
        "id": "XBBaJytJ0EUM"
      },
      "outputs": [],
      "source": [
        "from sklearn.linear_model import LogisticRegression\n",
        "logreg = LogisticRegression(solver='liblinear')\n",
        "logreg.fit(X_train_tfidf, y_train)\n",
        "prediction['Logistic'] = logreg.predict(X_test_tfidf)"
      ]
    },
    {
      "cell_type": "markdown",
      "metadata": {
        "id": "zLfT_6vy0EUM"
      },
      "source": [
        "## Task 2: build a support vector model"
      ]
    },
    {
      "cell_type": "markdown",
      "metadata": {
        "id": "SMvoSI510EUM"
      },
      "source": [
        "### Applying Support Vector Model"
      ]
    },
    {
      "cell_type": "code",
      "execution_count": null,
      "metadata": {
        "id": "Bo5AUsPd0EUM"
      },
      "outputs": [],
      "source": [
        "# Task 2: build a support vector model\n",
        "from sklearn.svm import SVC, LinearSVC\n",
        "svc = SVC(C= 1.0, kernel='linear')\n",
        "svc.fit(X_train_tfidf, y_train)\n",
        "prediction['SVC'] = svc.predict(X_test_tfidf)"
      ]
    },
    {
      "cell_type": "markdown",
      "metadata": {
        "id": "z9djAWq70EUM"
      },
      "source": [
        "## Task 3: run several random forest models and select the best one"
      ]
    },
    {
      "cell_type": "markdown",
      "metadata": {
        "id": "V-pExc970EUM"
      },
      "source": [
        "### Applying Random Forest\n"
      ]
    },
    {
      "cell_type": "code",
      "execution_count": null,
      "metadata": {
        "id": "dGg_z3fV0EUM",
        "outputId": "1286fd36-2be2-4ef9-97f8-76080906f656"
      },
      "outputs": [
        {
          "name": "stdout",
          "output_type": "stream",
          "text": [
            "\n",
            " The following are the Accuracy Scores for different Random Forest models:\n",
            "The Accuracy for 1 features equals: 0.8575819672131147\n",
            "The Accuracy for 2 features equals: 0.8545081967213115\n",
            "The Accuracy for 3 features equals: 0.8452868852459017\n",
            "The Accuracy for 4 features equals: 0.8473360655737705\n",
            "The Accuracy for 5 features equals: 0.8463114754098361\n",
            "The Accuracy for 6 features equals: 0.8514344262295082\n",
            "The Accuracy for 7 features equals: 0.8452868852459017\n",
            "The Accuracy for 8 features equals: 0.8452868852459017\n",
            "The Accuracy for 9 features equals: 0.8473360655737705\n",
            "The Accuracy for 10 features equals: 0.8463114754098361\n",
            "The Accuracy for 11 features equals: 0.8463114754098361\n",
            "The Accuracy for 12 features equals: 0.8442622950819673\n",
            "The Accuracy for 13 features equals: 0.8483606557377049\n"
          ]
        }
      ],
      "source": [
        "# Task 3: run several random forest models and select the best one\n",
        "from sklearn.ensemble import RandomForestClassifier\n",
        "\n",
        "print(\"\\n The following are the Accuracy Scores for different Random Forest models:\")\n",
        "for i in range(1,14):\n",
        "    rfc2 = RandomForestClassifier(max_features=i, random_state=10) # Random state has been selected as the number of my fist initial\n",
        "    rfc2.fit(X_train_tfidf, y_train)\n",
        "    y_pred_rfc2 = rfc2.predict(X_test_tfidf)\n",
        "    print(\"The Accuracy for %s features equals: %s\" %(i,accuracy_score(y_pred_rfc2, y_test)))\n"
      ]
    },
    {
      "cell_type": "markdown",
      "metadata": {
        "id": "_lqp-Ack0EUN"
      },
      "source": [
        "### Findings:\n",
        "### We obtain the best accuracy when we use max_features = 1\n",
        "### Accuracy = 0.7142857142857143"
      ]
    },
    {
      "cell_type": "code",
      "execution_count": null,
      "metadata": {
        "id": "Vnl4qd7c0EUN",
        "outputId": "9f5ade68-3b53-44fa-9f66-47a462ab8ef6"
      },
      "outputs": [
        {
          "data": {
            "text/plain": [
              "RandomForestClassifier(max_features=1, random_state=10)"
            ]
          },
          "execution_count": 14,
          "metadata": {},
          "output_type": "execute_result"
        }
      ],
      "source": [
        "# Selected Random Forest Model\n",
        "rfc = RandomForestClassifier(max_features=1, random_state=10) # Random state has been selected as the number of my fist initial\n",
        "rfc.fit(X_train_tfidf, y_train)"
      ]
    },
    {
      "cell_type": "code",
      "execution_count": null,
      "metadata": {
        "id": "WqtnDDMF0EUN"
      },
      "outputs": [],
      "source": [
        "prediction['Random Forest'] = rfc.predict(X_test_tfidf)"
      ]
    },
    {
      "cell_type": "markdown",
      "metadata": {
        "id": "mDFLN0tP0EUN"
      },
      "source": [
        "## Model Evaluation\n",
        "\n",
        "In order to compare our learning algorithms, let's build the ROC curve. The curve with the highest AUC value will show our \"best\" algorithm.\n",
        "\n",
        "In first data cleaning, stop-words removal has been used, but the results were much worse. Reason for this result could be that when people want to speak about what is or is not good, they use many small words like \"not\" for instance, and these words will typically be tagged as stop-words, and will be removed. This is why in the end, it was decided to keep the stop-words. For those who would like to try it by themselves, I have let the stop-words removal as a comment in the cleaning part of the analysis."
      ]
    },
    {
      "cell_type": "code",
      "execution_count": null,
      "metadata": {
        "id": "4Gg4N3Cq0EUN",
        "outputId": "0825f44f-7bbd-4703-84db-1d1137185e79"
      },
      "outputs": [
        {
          "name": "stdout",
          "output_type": "stream",
          "text": [
            "Model evaluation for Tree Model:\n",
            "[[109  64]\n",
            " [126 677]]\n",
            "Accuracy = 0.80532\n",
            "Sensitivity = 0.84308\n",
            "Specificity = 0.63005\n",
            "              precision    recall  f1-score   support\n",
            "\n",
            "           0       0.46      0.63      0.53       173\n",
            "           1       0.91      0.84      0.88       803\n",
            "\n",
            "    accuracy                           0.81       976\n",
            "   macro avg       0.69      0.74      0.71       976\n",
            "weighted avg       0.83      0.81      0.82       976\n",
            "\n"
          ]
        }
      ],
      "source": [
        "# Tree model evaluation\n",
        "y_pred_tree = clt.predict(X_test_tfidf)\n",
        "print(\"Model evaluation for Tree Model:\")\n",
        "print(confusion_matrix(y_test, y_pred_tree))\n",
        "tn, fp, fn, tp = confusion_matrix(y_test, y_pred_tree).ravel()\n",
        "\n",
        "# model evaluation 2: Accuracy, sensitivity & specificty\n",
        "print(\"Accuracy = %.7s\" %((tp+tn)/(tp+fn+tn+fp)))\n",
        "print(\"Sensitivity = %.7s\" %(tp/(tp+fn)))\n",
        "print(\"Specificity = %.7s\" %(tn/(tn+fp)))\n",
        "\n",
        "# model evaluation 3: precision & recall & F1_score\n",
        "print(classification_report(y_test, y_pred_tree))"
      ]
    },
    {
      "cell_type": "markdown",
      "metadata": {
        "id": "bl2dzGQO0EUN"
      },
      "source": [
        "## Task 4: Add evaluation for Random forest as we did with the above decision tree model"
      ]
    },
    {
      "cell_type": "code",
      "execution_count": null,
      "metadata": {
        "id": "TZQevxwW0EUO",
        "outputId": "c4e757da-9ee5-40cb-f98a-a40eb615e267"
      },
      "outputs": [
        {
          "name": "stdout",
          "output_type": "stream",
          "text": [
            "Model evaluation for Random Forest:\n",
            "[[ 99  74]\n",
            " [ 65 738]]\n",
            "Accuracy = 0.85758\n",
            "Sensitivity = 0.91905\n",
            "Specificity = 0.57225\n",
            "              precision    recall  f1-score   support\n",
            "\n",
            "           0       0.60      0.57      0.59       173\n",
            "           1       0.91      0.92      0.91       803\n",
            "\n",
            "    accuracy                           0.86       976\n",
            "   macro avg       0.76      0.75      0.75       976\n",
            "weighted avg       0.85      0.86      0.86       976\n",
            "\n"
          ]
        }
      ],
      "source": [
        "# Task 4: add evaluation for Random forest as we did with the above decision tree model\n",
        "\n",
        "# Random forest evaluation\n",
        "y_pred_rfc = rfc.predict(X_test_tfidf)\n",
        "print(\"Model evaluation for Random Forest:\")\n",
        "print(confusion_matrix(y_test, y_pred_rfc))\n",
        "tn, fp, fn, tp = confusion_matrix(y_test, y_pred_rfc).ravel()\n",
        "\n",
        "# model evaluation 2: Accuracy, sensitivity & specificty\n",
        "print(\"Accuracy = %.7s\" %((tp+tn)/(tp+fn+tn+fp)))\n",
        "print(\"Sensitivity = %.7s\" %(tp/(tp+fn)))\n",
        "print(\"Specificity = %.7s\" %(tn/(tn+fp)))\n",
        "\n",
        "# model evaluation 3: precision & recall & F1_score\n",
        "print(classification_report(y_test, y_pred_rfc))\n"
      ]
    },
    {
      "cell_type": "markdown",
      "metadata": {
        "id": "icxkE6gU0EUO"
      },
      "source": [
        "### Interpretation:\n",
        "The Accuracy for the Random Forest model is at the same level as the Decision Tree model. However, the Random Forest model provides better Sensitivity; i.e. it is better at predicting positive reviews. The Decision Tree model has a better Specificity and therefore is better at forecasting Negative comments."
      ]
    },
    {
      "cell_type": "markdown",
      "metadata": {
        "id": "ZXWjvpZ30EUO"
      },
      "source": [
        "### ROC Plot\n",
        "The ROC Plot below includes the Random Forest model. Notice that the AUC for Random Forest is 0.64, which is one othe lowest for this plot. The Decistion Tree model was the best performer in this scenario with an AUC of 0.73."
      ]
    },
    {
      "cell_type": "code",
      "execution_count": null,
      "metadata": {
        "id": "e0B8zx280EUO",
        "outputId": "eb40369f-32c6-426e-b7e6-3db613ba5554"
      },
      "outputs": [
        {
          "data": {
            "image/png": "[encoded data removed]",
            "text/plain": [
              "<Figure size 432x288 with 1 Axes>"
            ]
          },
          "metadata": {
            "needs_background": "light"
          },
          "output_type": "display_data"
        }
      ],
      "source": [
        "# plot ROC values in one plot\n",
        "\n",
        "cmp = 0\n",
        "colors = ['b', 'g', 'y', 'm', 'k', 'p']\n",
        "for model, predicted in prediction.items():\n",
        "    false_positive_rate, true_positive_rate, thresholds = roc_curve(y_test, predicted)\n",
        "    roc_auc = auc(false_positive_rate, true_positive_rate)\n",
        "    plt.plot(false_positive_rate, true_positive_rate, colors[cmp], label='%s: AUC %0.2f'% (model,roc_auc))\n",
        "    cmp += 1\n",
        "\n",
        "plt.title('Classifiers comparaison with ROC')\n",
        "plt.legend(loc='lower right')\n",
        "plt.plot([0,1],[0,1],'r--')\n",
        "plt.xlim([-0.1,1.2])\n",
        "plt.ylim([-0.1,1.2])\n",
        "plt.ylabel('True Positive Rate')\n",
        "plt.xlabel('False Positive Rate')\n",
        "plt.show()"
      ]
    },
    {
      "cell_type": "markdown",
      "metadata": {
        "id": "AT8WXRYm0EUO"
      },
      "source": [
        "After plotting the ROC curve, it would appear that the Logistic regression method provides us with the best results, although the AUC value for this method is not outstanding...\n",
        "\n",
        "Let's focus on logistic regression, and vizualise the accuracy, recall and confusion matrix of this model:"
      ]
    },
    {
      "cell_type": "markdown",
      "metadata": {
        "id": "eZCHPzeo0EUO"
      },
      "source": [
        "# Import the tweets dataset\n",
        "In this part, we will use the model we selected to generate prediction for other user comments, for example, users' comments on AUFootball Fanpage."
      ]
    },
    {
      "cell_type": "code",
      "execution_count": null,
      "metadata": {
        "id": "-J5zeiYn0EUU"
      },
      "outputs": [],
      "source": [
        "# The file 'wetweets.csv' contains all tweets with hashtag #WarEagle between 8/1/2019 and 11/10/2019\n",
        "\n",
        "tweets_raw = pd.read_csv('wetweets.csv', encoding = \"latin\")"
      ]
    },
    {
      "cell_type": "code",
      "execution_count": null,
      "metadata": {
        "id": "ay-TToer0EUU",
        "outputId": "324edebf-b197-4b03-d446-91534208c299"
      },
      "outputs": [
        {
          "data": {
            "text/html": [
              "<div>\n",
              "<style scoped>\n",
              "    .dataframe tbody tr th:only-of-type {\n",
              "        vertical-align: middle;\n",
              "    }\n",
              "\n",
              "    .dataframe tbody tr th {\n",
              "        vertical-align: top;\n",
              "    }\n",
              "\n",
              "    .dataframe thead th {\n",
              "        text-align: right;\n",
              "    }\n",
              "</style>\n",
              "<table border=\"1\" class=\"dataframe\">\n",
              "  <thead>\n",
              "    <tr style=\"text-align: right;\">\n",
              "      <th></th>\n",
              "      <th>user</th>\n",
              "      <th>fullname</th>\n",
              "      <th>tweet-id</th>\n",
              "      <th>timestamp</th>\n",
              "      <th>url</th>\n",
              "      <th>likes</th>\n",
              "      <th>replies</th>\n",
              "      <th>retweets</th>\n",
              "      <th>text</th>\n",
              "    </tr>\n",
              "  </thead>\n",
              "  <tbody>\n",
              "    <tr>\n",
              "      <th>0</th>\n",
              "      <td>Bjorn12650</td>\n",
              "      <td>Brian Olson</td>\n",
              "      <td>1162149919085359104</td>\n",
              "      <td>2019-08-15 23:51:47</td>\n",
              "      <td>/Bjorn12650/status/1162149919085359104</td>\n",
              "      <td>0</td>\n",
              "      <td>0</td>\n",
              "      <td>0</td>\n",
              "      <td>#WarEagle #HookEmHorns #OUSucks</td>\n",
              "    </tr>\n",
              "    <tr>\n",
              "      <th>1</th>\n",
              "      <td>WarEagle_Bands</td>\n",
              "      <td>War Eagle Bands</td>\n",
              "      <td>1162149186495832064</td>\n",
              "      <td>2019-08-15 23:48:52</td>\n",
              "      <td>/WarEagle_Bands/status/1162149186495832064</td>\n",
              "      <td>9</td>\n",
              "      <td>0</td>\n",
              "      <td>4</td>\n",
              "      <td>Donât get ready...stay ready!!pic.twitter.co...</td>\n",
              "    </tr>\n",
              "    <tr>\n",
              "      <th>2</th>\n",
              "      <td>AURobUSA</td>\n",
              "      <td>ðð¤ð¡ð¸ð« Â ð¯ Pixel Pusher!</td>\n",
              "      <td>1162146524073222144</td>\n",
              "      <td>2019-08-15 23:38:17</td>\n",
              "      <td>/AURobUSA/status/1162146524073222144</td>\n",
              "      <td>1</td>\n",
              "      <td>0</td>\n",
              "      <td>0</td>\n",
              "      <td>Thank you, I loved working on it! #WarEagle</td>\n",
              "    </tr>\n",
              "    <tr>\n",
              "      <th>3</th>\n",
              "      <td>AuBurntOrange</td>\n",
              "      <td>AuBurntOrange</td>\n",
              "      <td>1162145863776591872</td>\n",
              "      <td>2019-08-15 23:35:40</td>\n",
              "      <td>/AuBurntOrange/status/1162145863776591872</td>\n",
              "      <td>1</td>\n",
              "      <td>0</td>\n",
              "      <td>0</td>\n",
              "      <td>Good. Looking. Picture. \\r\\n#WarEagle https://...</td>\n",
              "    </tr>\n",
              "    <tr>\n",
              "      <th>4</th>\n",
              "      <td>AuburnU</td>\n",
              "      <td>Auburn University</td>\n",
              "      <td>1162140829504483328</td>\n",
              "      <td>2019-08-15 23:15:39</td>\n",
              "      <td>/AuburnU/status/1162140829504483328</td>\n",
              "      <td>32</td>\n",
              "      <td>0</td>\n",
              "      <td>3</td>\n",
              "      <td>#Auburn admission applications for 2020 terms ...</td>\n",
              "    </tr>\n",
              "  </tbody>\n",
              "</table>\n",
              "</div>"
            ],
            "text/plain": [
              "             user                                   fullname  \\\n",
              "0      Bjorn12650                                Brian Olson   \n",
              "1  WarEagle_Bands                            War Eagle Bands   \n",
              "2        AURobUSA  ðð¤ð¡ð¸ð« Â ð¯ Pixel Pusher!   \n",
              "3   AuBurntOrange                              AuBurntOrange   \n",
              "4         AuburnU                          Auburn University   \n",
              "\n",
              "              tweet-id            timestamp  \\\n",
              "0  1162149919085359104  2019-08-15 23:51:47   \n",
              "1  1162149186495832064  2019-08-15 23:48:52   \n",
              "2  1162146524073222144  2019-08-15 23:38:17   \n",
              "3  1162145863776591872  2019-08-15 23:35:40   \n",
              "4  1162140829504483328  2019-08-15 23:15:39   \n",
              "\n",
              "                                          url  likes  replies  retweets  \\\n",
              "0      /Bjorn12650/status/1162149919085359104      0        0         0   \n",
              "1  /WarEagle_Bands/status/1162149186495832064      9        0         4   \n",
              "2        /AURobUSA/status/1162146524073222144      1        0         0   \n",
              "3   /AuBurntOrange/status/1162145863776591872      1        0         0   \n",
              "4         /AuburnU/status/1162140829504483328     32        0         3   \n",
              "\n",
              "                                                text  \n",
              "0                    #WarEagle #HookEmHorns #OUSucks  \n",
              "1  Donât get ready...stay ready!!pic.twitter.co...  \n",
              "2        Thank you, I loved working on it! #WarEagle  \n",
              "3  Good. Looking. Picture. \\r\\n#WarEagle https://...  \n",
              "4  #Auburn admission applications for 2020 terms ...  "
            ]
          },
          "execution_count": 20,
          "metadata": {},
          "output_type": "execute_result"
        }
      ],
      "source": [
        "tweets_raw.drop(['html'], axis=1).head()"
      ]
    },
    {
      "cell_type": "code",
      "execution_count": null,
      "metadata": {
        "id": "bgtHuYgM0EUU"
      },
      "outputs": [],
      "source": [
        "message = tweets_raw['text']"
      ]
    },
    {
      "cell_type": "code",
      "execution_count": null,
      "metadata": {
        "id": "N_gz2BCr0EUU"
      },
      "outputs": [],
      "source": [
        "# convert the text info into tfidf matrix\n",
        "corpus_2 = []\n",
        "for text in message:\n",
        "    text = str(text)\n",
        "    text = text.lower()\n",
        "    text = text.translate(trantab)\n",
        "    text=tokenize(text)\n",
        "    corpus_2.append(text)\n",
        "\n",
        "X_new_counts2 = count_vect.transform(corpus_2)\n",
        "X_test_tfidf2 = tfidf_transformer.transform(X_new_counts2)"
      ]
    },
    {
      "cell_type": "code",
      "execution_count": null,
      "metadata": {
        "id": "5hcYxmIv0EUV"
      },
      "outputs": [],
      "source": [
        "tweets_raw['positive'] = clt.predict(X_test_tfidf2)\n",
        "tweets_raw['timestamp'] = pd.to_datetime(tweets_raw['timestamp'])\n",
        "tweets_raw['sentiment'] = ['positive' if x == 1 else 'negative' for x in tweets_raw['positive']]"
      ]
    },
    {
      "cell_type": "code",
      "execution_count": null,
      "metadata": {
        "scrolled": true,
        "id": "uab_AwvW0EUV",
        "outputId": "67841972-d44c-4449-8cb5-d34e86badb0b"
      },
      "outputs": [
        {
          "data": {
            "text/html": [
              "<div>\n",
              "<style scoped>\n",
              "    .dataframe tbody tr th:only-of-type {\n",
              "        vertical-align: middle;\n",
              "    }\n",
              "\n",
              "    .dataframe tbody tr th {\n",
              "        vertical-align: top;\n",
              "    }\n",
              "\n",
              "    .dataframe thead th {\n",
              "        text-align: right;\n",
              "    }\n",
              "</style>\n",
              "<table border=\"1\" class=\"dataframe\">\n",
              "  <thead>\n",
              "    <tr style=\"text-align: right;\">\n",
              "      <th></th>\n",
              "      <th>user</th>\n",
              "      <th>fullname</th>\n",
              "      <th>tweet-id</th>\n",
              "      <th>timestamp</th>\n",
              "      <th>url</th>\n",
              "      <th>likes</th>\n",
              "      <th>replies</th>\n",
              "      <th>retweets</th>\n",
              "      <th>text</th>\n",
              "      <th>html</th>\n",
              "      <th>positive</th>\n",
              "      <th>sentiment</th>\n",
              "    </tr>\n",
              "  </thead>\n",
              "  <tbody>\n",
              "    <tr>\n",
              "      <th>0</th>\n",
              "      <td>Bjorn12650</td>\n",
              "      <td>Brian Olson</td>\n",
              "      <td>1162149919085359104</td>\n",
              "      <td>2019-08-15 23:51:47</td>\n",
              "      <td>/Bjorn12650/status/1162149919085359104</td>\n",
              "      <td>0</td>\n",
              "      <td>0</td>\n",
              "      <td>0</td>\n",
              "      <td>#WarEagle #HookEmHorns #OUSucks</td>\n",
              "      <td>&lt;p class=\"TweetTextSize js-tweet-text tweet-te...</td>\n",
              "      <td>1</td>\n",
              "      <td>positive</td>\n",
              "    </tr>\n",
              "    <tr>\n",
              "      <th>1</th>\n",
              "      <td>WarEagle_Bands</td>\n",
              "      <td>War Eagle Bands</td>\n",
              "      <td>1162149186495832064</td>\n",
              "      <td>2019-08-15 23:48:52</td>\n",
              "      <td>/WarEagle_Bands/status/1162149186495832064</td>\n",
              "      <td>9</td>\n",
              "      <td>0</td>\n",
              "      <td>4</td>\n",
              "      <td>Donât get ready...stay ready!!pic.twitter.co...</td>\n",
              "      <td>&lt;p class=\"TweetTextSize js-tweet-text tweet-te...</td>\n",
              "      <td>0</td>\n",
              "      <td>negative</td>\n",
              "    </tr>\n",
              "    <tr>\n",
              "      <th>2</th>\n",
              "      <td>AURobUSA</td>\n",
              "      <td>ðð¤ð¡ð¸ð« Â ð¯ Pixel Pusher!</td>\n",
              "      <td>1162146524073222144</td>\n",
              "      <td>2019-08-15 23:38:17</td>\n",
              "      <td>/AURobUSA/status/1162146524073222144</td>\n",
              "      <td>1</td>\n",
              "      <td>0</td>\n",
              "      <td>0</td>\n",
              "      <td>Thank you, I loved working on it! #WarEagle</td>\n",
              "      <td>&lt;p class=\"TweetTextSize js-tweet-text tweet-te...</td>\n",
              "      <td>1</td>\n",
              "      <td>positive</td>\n",
              "    </tr>\n",
              "    <tr>\n",
              "      <th>3</th>\n",
              "      <td>AuBurntOrange</td>\n",
              "      <td>AuBurntOrange</td>\n",
              "      <td>1162145863776591872</td>\n",
              "      <td>2019-08-15 23:35:40</td>\n",
              "      <td>/AuBurntOrange/status/1162145863776591872</td>\n",
              "      <td>1</td>\n",
              "      <td>0</td>\n",
              "      <td>0</td>\n",
              "      <td>Good. Looking. Picture. \\r\\n#WarEagle https://...</td>\n",
              "      <td>&lt;p class=\"TweetTextSize js-tweet-text tweet-te...</td>\n",
              "      <td>1</td>\n",
              "      <td>positive</td>\n",
              "    </tr>\n",
              "    <tr>\n",
              "      <th>4</th>\n",
              "      <td>AuburnU</td>\n",
              "      <td>Auburn University</td>\n",
              "      <td>1162140829504483328</td>\n",
              "      <td>2019-08-15 23:15:39</td>\n",
              "      <td>/AuburnU/status/1162140829504483328</td>\n",
              "      <td>32</td>\n",
              "      <td>0</td>\n",
              "      <td>3</td>\n",
              "      <td>#Auburn admission applications for 2020 terms ...</td>\n",
              "      <td>&lt;p class=\"TweetTextSize js-tweet-text tweet-te...</td>\n",
              "      <td>0</td>\n",
              "      <td>negative</td>\n",
              "    </tr>\n",
              "  </tbody>\n",
              "</table>\n",
              "</div>"
            ],
            "text/plain": [
              "             user                                   fullname  \\\n",
              "0      Bjorn12650                                Brian Olson   \n",
              "1  WarEagle_Bands                            War Eagle Bands   \n",
              "2        AURobUSA  ðð¤ð¡ð¸ð« Â ð¯ Pixel Pusher!   \n",
              "3   AuBurntOrange                              AuBurntOrange   \n",
              "4         AuburnU                          Auburn University   \n",
              "\n",
              "              tweet-id           timestamp  \\\n",
              "0  1162149919085359104 2019-08-15 23:51:47   \n",
              "1  1162149186495832064 2019-08-15 23:48:52   \n",
              "2  1162146524073222144 2019-08-15 23:38:17   \n",
              "3  1162145863776591872 2019-08-15 23:35:40   \n",
              "4  1162140829504483328 2019-08-15 23:15:39   \n",
              "\n",
              "                                          url  likes  replies  retweets  \\\n",
              "0      /Bjorn12650/status/1162149919085359104      0        0         0   \n",
              "1  /WarEagle_Bands/status/1162149186495832064      9        0         4   \n",
              "2        /AURobUSA/status/1162146524073222144      1        0         0   \n",
              "3   /AuBurntOrange/status/1162145863776591872      1        0         0   \n",
              "4         /AuburnU/status/1162140829504483328     32        0         3   \n",
              "\n",
              "                                                text  \\\n",
              "0                    #WarEagle #HookEmHorns #OUSucks   \n",
              "1  Donât get ready...stay ready!!pic.twitter.co...   \n",
              "2        Thank you, I loved working on it! #WarEagle   \n",
              "3  Good. Looking. Picture. \\r\\n#WarEagle https://...   \n",
              "4  #Auburn admission applications for 2020 terms ...   \n",
              "\n",
              "                                                html  positive sentiment  \n",
              "0  <p class=\"TweetTextSize js-tweet-text tweet-te...         1  positive  \n",
              "1  <p class=\"TweetTextSize js-tweet-text tweet-te...         0  negative  \n",
              "2  <p class=\"TweetTextSize js-tweet-text tweet-te...         1  positive  \n",
              "3  <p class=\"TweetTextSize js-tweet-text tweet-te...         1  positive  \n",
              "4  <p class=\"TweetTextSize js-tweet-text tweet-te...         0  negative  "
            ]
          },
          "execution_count": 24,
          "metadata": {},
          "output_type": "execute_result"
        }
      ],
      "source": [
        "tweets_raw.head(5)"
      ]
    },
    {
      "cell_type": "code",
      "execution_count": null,
      "metadata": {
        "id": "3takW9U40EUV",
        "outputId": "a1d607af-4251-4b0d-9ca0-b365616a124a"
      },
      "outputs": [
        {
          "data": {
            "text/html": [
              "<div>\n",
              "<style scoped>\n",
              "    .dataframe tbody tr th:only-of-type {\n",
              "        vertical-align: middle;\n",
              "    }\n",
              "\n",
              "    .dataframe tbody tr th {\n",
              "        vertical-align: top;\n",
              "    }\n",
              "\n",
              "    .dataframe thead th {\n",
              "        text-align: right;\n",
              "    }\n",
              "</style>\n",
              "<table border=\"1\" class=\"dataframe\">\n",
              "  <thead>\n",
              "    <tr style=\"text-align: right;\">\n",
              "      <th></th>\n",
              "      <th>text</th>\n",
              "      <th>timestamp</th>\n",
              "      <th>sentiment</th>\n",
              "    </tr>\n",
              "  </thead>\n",
              "  <tbody>\n",
              "    <tr>\n",
              "      <th>0</th>\n",
              "      <td>#WarEagle #HookEmHorns #OUSucks</td>\n",
              "      <td>2019-08-15 23:51:47</td>\n",
              "      <td>positive</td>\n",
              "    </tr>\n",
              "    <tr>\n",
              "      <th>1</th>\n",
              "      <td>Donât get ready...stay ready!!pic.twitter.co...</td>\n",
              "      <td>2019-08-15 23:48:52</td>\n",
              "      <td>negative</td>\n",
              "    </tr>\n",
              "    <tr>\n",
              "      <th>2</th>\n",
              "      <td>Thank you, I loved working on it! #WarEagle</td>\n",
              "      <td>2019-08-15 23:38:17</td>\n",
              "      <td>positive</td>\n",
              "    </tr>\n",
              "    <tr>\n",
              "      <th>3</th>\n",
              "      <td>Good. Looking. Picture. \\r\\n#WarEagle https://...</td>\n",
              "      <td>2019-08-15 23:35:40</td>\n",
              "      <td>positive</td>\n",
              "    </tr>\n",
              "    <tr>\n",
              "      <th>4</th>\n",
              "      <td>#Auburn admission applications for 2020 terms ...</td>\n",
              "      <td>2019-08-15 23:15:39</td>\n",
              "      <td>negative</td>\n",
              "    </tr>\n",
              "  </tbody>\n",
              "</table>\n",
              "</div>"
            ],
            "text/plain": [
              "                                                text           timestamp  \\\n",
              "0                    #WarEagle #HookEmHorns #OUSucks 2019-08-15 23:51:47   \n",
              "1  Donât get ready...stay ready!!pic.twitter.co... 2019-08-15 23:48:52   \n",
              "2        Thank you, I loved working on it! #WarEagle 2019-08-15 23:38:17   \n",
              "3  Good. Looking. Picture. \\r\\n#WarEagle https://... 2019-08-15 23:35:40   \n",
              "4  #Auburn admission applications for 2020 terms ... 2019-08-15 23:15:39   \n",
              "\n",
              "  sentiment  \n",
              "0  positive  \n",
              "1  negative  \n",
              "2  positive  \n",
              "3  positive  \n",
              "4  negative  "
            ]
          },
          "execution_count": 25,
          "metadata": {},
          "output_type": "execute_result"
        }
      ],
      "source": [
        "col = ['text', 'timestamp', 'sentiment']\n",
        "tweets = tweets_raw[col]\n",
        "tweets.head(5)"
      ]
    },
    {
      "cell_type": "code",
      "execution_count": null,
      "metadata": {
        "id": "q1kOHv3q0EUV",
        "outputId": "aad0e5ab-a4c8-474a-bb5a-d0b4026e9f4a"
      },
      "outputs": [
        {
          "name": "stdout",
          "output_type": "stream",
          "text": [
            "                                                text           timestamp  \\\n",
            "0                    #WarEagle #HookEmHorns #OUSucks 2019-08-15 23:51:47   \n",
            "1  Donât get ready...stay ready!!pic.twitter.co... 2019-08-15 23:48:52   \n",
            "2        Thank you, I loved working on it! #WarEagle 2019-08-15 23:38:17   \n",
            "3  Good. Looking. Picture. \\r\\n#WarEagle https://... 2019-08-15 23:35:40   \n",
            "4  #Auburn admission applications for 2020 terms ... 2019-08-15 23:15:39   \n",
            "\n",
            "  sentiment  week_number  negative  positive  \n",
            "0  positive           33         0         1  \n",
            "1  negative           33         1         0  \n",
            "2  positive           33         0         1  \n",
            "3  positive           33         0         1  \n",
            "4  negative           33         1         0  \n"
          ]
        },
        {
          "name": "stderr",
          "output_type": "stream",
          "text": [
            "<ipython-input-26-af8b6000c07b>:6: SettingWithCopyWarning: \n",
            "A value is trying to be set on a copy of a slice from a DataFrame.\n",
            "Try using .loc[row_indexer,col_indexer] = value instead\n",
            "\n",
            "See the caveats in the documentation: https://pandas.pydata.org/pandas-docs/stable/user_guide/indexing.html#returning-a-view-versus-a-copy\n",
            "  tweets['week_number'] = week_number\n"
          ]
        }
      ],
      "source": [
        "# convert from string to time\n",
        "week_number = []\n",
        "for t in tweets['timestamp']:\n",
        "    week_number.append(t.isocalendar()[1])\n",
        "\n",
        "tweets['week_number'] = week_number\n",
        "\n",
        "df3_senti = pd.get_dummies(tweets['sentiment'])\n",
        "tweets = pd.concat([tweets,df3_senti], axis=1)\n",
        "\n",
        "print(tweets.head())"
      ]
    },
    {
      "cell_type": "code",
      "execution_count": null,
      "metadata": {
        "id": "e76yDzVO0EUV",
        "outputId": "8485f3fa-6a73-4c0c-b15a-450688ae6dbb"
      },
      "outputs": [
        {
          "name": "stdout",
          "output_type": "stream",
          "text": [
            "             negative  positive\n",
            "week_number                    \n",
            "31              571.0     642.0\n",
            "32              930.0    1205.0\n",
            "33              771.0    1117.0\n",
            "34              907.0    1274.0\n",
            "35             2195.0    4571.0\n",
            "36             1249.0    2333.0\n",
            "37             1032.0    1924.0\n",
            "38             1345.0    2908.0\n",
            "39             1324.0    2768.0\n",
            "40             1691.0    3089.0\n",
            "41             1211.0    1186.0\n",
            "42              933.0    1785.0\n",
            "43             1219.0    2387.0\n",
            "44             1200.0    2204.0\n",
            "45             1593.0    2155.0\n"
          ]
        }
      ],
      "source": [
        "table = pd.pivot_table(tweets,index=['week_number'],aggfunc=np.sum)\n",
        "print(table)"
      ]
    },
    {
      "cell_type": "markdown",
      "metadata": {
        "id": "cZIAOGKX0EUW"
      },
      "source": [
        "## Task 5: Place the team labels in the right order"
      ]
    },
    {
      "cell_type": "code",
      "execution_count": null,
      "metadata": {
        "id": "9tGP5Lge0EUW",
        "outputId": "e1e4cdfa-4f4e-49a0-94c4-d7823099ec68"
      },
      "outputs": [
        {
          "data": {
            "image/png": "[encoded data removed]",
            "text/plain": [
              "<Figure size 1080x648 with 1 Axes>"
            ]
          },
          "metadata": {
            "needs_background": "light"
          },
          "output_type": "display_data"
        }
      ],
      "source": [
        "# Task 5: Make sure the team labels are correct and in the right order\n",
        "\n",
        "pos = table['positive'].values\n",
        "neg = table['negative'].values\n",
        "week_number = table.index\n",
        "\n",
        "fig_size = plt.rcParams[\"figure.figsize\"]\n",
        "fig_size[0] = 15\n",
        "fig_size[1] = 9\n",
        "width = 0.8\n",
        "\n",
        "p1 = plt.bar(week_number, pos, width, color='blue',tick_label = week_number)\n",
        "p2 = plt.bar(week_number, neg, width, color='red', tick_label = week_number, bottom=pos)\n",
        "\n",
        "plt.ylabel('Total Comments by Week')\n",
        "plt.title('Comments by Sentiment')\n",
        "plt.xticks(week_number + width/2., ('N/A','N/A','N/A','N/A','Oregon','Tulane', 'Ken State', 'Texas A&M', 'MS State', 'Florida', 'Open','Arkansas','LSU','Mississippi','Open'))\n",
        "plt.legend((p1[0], p2[0]), ('Positive', 'Negative'), bbox_to_anchor=(1.05, 1), loc=2, borderaxespad=0.)\n",
        "\n",
        "plt.show()"
      ]
    },
    {
      "cell_type": "markdown",
      "metadata": {
        "id": "qfuWL8DO0EUW"
      },
      "source": [
        "## Task 6: Describe the above plot"
      ]
    },
    {
      "cell_type": "code",
      "execution_count": null,
      "metadata": {
        "id": "dupgK5eR0EUW"
      },
      "outputs": [],
      "source": [
        "# Task 6: Describe the above plot"
      ]
    },
    {
      "cell_type": "markdown",
      "metadata": {
        "id": "GbQeQVTG0EUW"
      },
      "source": [
        "### The plot above (Task #5) was derived based on users' comments that were posted from Aug 1 to Nov 10, 2019. A Sentiment Analysis was conducted on the posts using Machine Learning to determine if they were either positive or negative. The plot is a representation of the number of positive and negative tweets for each week.\n",
        "\n",
        "### <span style=\"color:Green\"> Please notice that the training set had inputs not only from Auburn fans, but also from Alabama and Georgia fans. Therefore, more posts are marked negative than expected.<span>\n",
        "### <span style=\"color:Red\"> The file for the training dataset was downloaded from the Google drive on 11/16/2020.<span>\n",
        "\n",
        "### The following is a breakdown of the analysis:\n",
        "#### Week 31  - No game - There is a start of activity and the number of positibe posts by the Auburn fans is relatively small.\n",
        "#### Week 32  - No game - There is an increase in activity and an increase in the number of positive posts. There are a lot of negative posts which possibly came from non-Auburn fans.\n",
        "#### Week 33  - No game - There is another increase in the number of positive posts since the first game is just two weeks away.\n",
        "#### Week 34  - No game - This is the week before the first game of the season. There is an uptick in the number of tweets and more positive posts. There are a lot of negative tweets, possibly due to the apprehention that comes with the beginning of the season.\n",
        "#### Week 35  - Oregon 21 x Auburn 27 - This was a win for Auburn. Here, for the first time, there is an outpour of postive posts; the Auburn fans are very enthusiastic about the successful first game.\n",
        "#### Week 36  - Tulane 6 x Auburn 24 - Auburn scored big this week. As expected, the great majority of posts were positive.\n",
        "#### Week 37  - Ken State 16 x Auburn 55 - This is the third win in a row and the final score was impressive. The mood and enthusiasm were very high, as can be verified by the 1956 positive posts.\n",
        "#### Week 38  - Texas A&M 20 x Auburn 28 - A close final score, but still a win for Auburn. The volume of positive posts was the second highest up to this point in the season.\n",
        "#### Week 39  - MS State 23 x Auburn 56 - Another big win for Auburn. There is an overall very positive mood.\n",
        "#### Week 40  - Florida 24 x Auburn 13 - That was the first loss of the season. As we can verify, this actually electrified the Auburn fans who produced 3,217 positive posts.\n",
        "#### Week 41  - No game - As expected there is a reduction in activity.\n",
        "#### Week 42  - Arkansas 10 x Auburn 51 - Another huge victory, which explains the increase in activity.\n",
        "#### Week 43 -  LSU 23 x Auburn 20 - The second loss of the season did not put a damper on the Auburn fans, it actually increased their enthusiasm.\n",
        "#### Week 44  - Mississippi 14 x Auburn 20 - The mood stays high as Auburn makes a come back.\n",
        "#### Week 45  - No game - Auburn fans keep their spirits high as they wait for the Georgia game in the following week."
      ]
    },
    {
      "cell_type": "code",
      "execution_count": null,
      "metadata": {
        "id": "MDgpStGv0EUY"
      },
      "outputs": [],
      "source": []
    }
  ],
  "metadata": {
    "kernelspec": {
      "display_name": "Python 3 (ipykernel)",
      "language": "python",
      "name": "python3"
    },
    "language_info": {
      "codemirror_mode": {
        "name": "ipython",
        "version": 3
      },
      "file_extension": ".py",
      "mimetype": "text/x-python",
      "name": "python",
      "nbconvert_exporter": "python",
      "pygments_lexer": "ipython3",
      "version": "3.11.5"
    },
    "colab": {
      "provenance": [],
      "toc_visible": true,
      "include_colab_link": true
    }
  },
  "nbformat": 4,
  "nbformat_minor": 0
}